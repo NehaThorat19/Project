{
 "cells": [
  {
   "cell_type": "code",
   "execution_count": 11,
   "id": "e6ccb68d",
   "metadata": {},
   "outputs": [],
   "source": [
    "import numpy as np\n",
    "import pandas as pd\n",
    "import matplotlib.pyplot as plt\n",
    "import seaborn as sns\n",
    "import warnings\n",
    "warnings.filterwarnings('ignore')"
   ]
  },
  {
   "cell_type": "code",
   "execution_count": 12,
   "id": "6e7789a9",
   "metadata": {},
   "outputs": [],
   "source": [
    "df=pd.read_csv(\"zomato_outlet_final (11).csv\")"
   ]
  },
  {
   "cell_type": "code",
   "execution_count": 13,
   "id": "f5a70d64",
   "metadata": {},
   "outputs": [
    {
     "data": {
      "text/html": [
       "<div>\n",
       "<style scoped>\n",
       "    .dataframe tbody tr th:only-of-type {\n",
       "        vertical-align: middle;\n",
       "    }\n",
       "\n",
       "    .dataframe tbody tr th {\n",
       "        vertical-align: top;\n",
       "    }\n",
       "\n",
       "    .dataframe thead th {\n",
       "        text-align: right;\n",
       "    }\n",
       "</style>\n",
       "<table border=\"1\" class=\"dataframe\">\n",
       "  <thead>\n",
       "    <tr style=\"text-align: right;\">\n",
       "      <th></th>\n",
       "      <th>link</th>\n",
       "      <th>rest_name</th>\n",
       "      <th>rest_type</th>\n",
       "      <th>loc</th>\n",
       "      <th>dine_rating</th>\n",
       "      <th>dine_reviews</th>\n",
       "      <th>delivery_rating</th>\n",
       "      <th>delivery_reviews</th>\n",
       "      <th>cuisine</th>\n",
       "      <th>Unnamed: 9</th>\n",
       "      <th>Cost (RS)</th>\n",
       "      <th>cost</th>\n",
       "      <th>liked</th>\n",
       "    </tr>\n",
       "  </thead>\n",
       "  <tbody>\n",
       "    <tr>\n",
       "      <th>0</th>\n",
       "      <td>https://www.zomato.com/pune/mix@36-the-westin-...</td>\n",
       "      <td>Mix@36 - The Westin\\r\\r\\n                     ...</td>\n",
       "      <td>Lounge</td>\n",
       "      <td>The Westin, Mundhwa</td>\n",
       "      <td>4.2</td>\n",
       "      <td>(707 Reviews)</td>\n",
       "      <td>NaN</td>\n",
       "      <td>NaN</td>\n",
       "      <td>North Indian,Continental,Asian,Finger Food,</td>\n",
       "      <td>NaN</td>\n",
       "      <td>4300</td>\n",
       "      <td>Rs. 4300</td>\n",
       "      <td>Cocktails, Chaat, Beer</td>\n",
       "    </tr>\n",
       "    <tr>\n",
       "      <th>1</th>\n",
       "      <td>https://www.zomato.com/pune/kangan-the-westin-...</td>\n",
       "      <td>Kangan - The Westin\\r\\r\\n                     ...</td>\n",
       "      <td>Fine Dining</td>\n",
       "      <td>The Westin, Mundhwa</td>\n",
       "      <td>4.1</td>\n",
       "      <td>(344 Reviews)</td>\n",
       "      <td>NaN</td>\n",
       "      <td>NaN</td>\n",
       "      <td>North Indian,Mughlai,</td>\n",
       "      <td>NaN</td>\n",
       "      <td>3500</td>\n",
       "      <td>Rs. 3500</td>\n",
       "      <td>Biryani, Veg Platter, Dal Makhani, Butter Chic...</td>\n",
       "    </tr>\n",
       "    <tr>\n",
       "      <th>2</th>\n",
       "      <td>https://www.zomato.com/pune/coriander-kitchen-...</td>\n",
       "      <td>Coriander Kitchen - Conrad Pune\\r\\r\\n         ...</td>\n",
       "      <td>Fine Dining</td>\n",
       "      <td>Conrad Pune, Bund Garden Road</td>\n",
       "      <td>4.5</td>\n",
       "      <td>(541 Reviews)</td>\n",
       "      <td>NaN</td>\n",
       "      <td>NaN</td>\n",
       "      <td>Mediterranean,Asian,North Indian,</td>\n",
       "      <td>NaN</td>\n",
       "      <td>3200</td>\n",
       "      <td>Rs. 3200</td>\n",
       "      <td>Pasta, Panipuri, Waffles, Pizza, Salad, Chaat,...</td>\n",
       "    </tr>\n",
       "    <tr>\n",
       "      <th>3</th>\n",
       "      <td>https://www.zomato.com/pune/the-market-the-wes...</td>\n",
       "      <td>The Market - The Westin\\r\\r\\n                 ...</td>\n",
       "      <td>Fine Dining</td>\n",
       "      <td>The Westin, Mundhwa</td>\n",
       "      <td>4.0</td>\n",
       "      <td>(55 Reviews)</td>\n",
       "      <td>NaN</td>\n",
       "      <td>NaN</td>\n",
       "      <td>Asian,European,North Indian,</td>\n",
       "      <td>NaN</td>\n",
       "      <td>3200</td>\n",
       "      <td>Rs. 3200</td>\n",
       "      <td>Vanilla Ice Cream, Chaat, Sushi</td>\n",
       "    </tr>\n",
       "    <tr>\n",
       "      <th>4</th>\n",
       "      <td>https://www.zomato.com/pune/vandaag-vivanta-pu...</td>\n",
       "      <td>Vandaag - Vivanta Pune\\r\\r\\n                  ...</td>\n",
       "      <td>Pub,Casual Dining</td>\n",
       "      <td>Vivanta Pune, Hinjewadi</td>\n",
       "      <td>3.9</td>\n",
       "      <td>(113 Reviews)</td>\n",
       "      <td>NaN</td>\n",
       "      <td>NaN</td>\n",
       "      <td>Finger Food,Continental,</td>\n",
       "      <td>NaN</td>\n",
       "      <td>3100</td>\n",
       "      <td>Rs. 3100</td>\n",
       "      <td>Cocktails, Beer, Peri Peri Chicken, Fish, Veg ...</td>\n",
       "    </tr>\n",
       "    <tr>\n",
       "      <th>5</th>\n",
       "      <td>https://www.zomato.com/pune/baan-tao-hyatt-pun...</td>\n",
       "      <td>Baan Tao - Hyatt Pune\\r\\r\\n                   ...</td>\n",
       "      <td>Fine Dining</td>\n",
       "      <td>Hyatt Pune, Nagar Road</td>\n",
       "      <td>4.5</td>\n",
       "      <td>(739 Reviews)</td>\n",
       "      <td>NaN</td>\n",
       "      <td>NaN</td>\n",
       "      <td>Salad,Asian,Malaysian,Vietnamese,Thai,Chinese,</td>\n",
       "      <td>NaN</td>\n",
       "      <td>3000</td>\n",
       "      <td>Rs. 3000</td>\n",
       "      <td>Sushi, Salad, Dumplings, Tom Yum Soup, Dimsum ...</td>\n",
       "    </tr>\n",
       "    <tr>\n",
       "      <th>6</th>\n",
       "      <td>https://www.zomato.com/pune/zeera-conrad-pune-...</td>\n",
       "      <td>Zeera - Conrad Pune\\r\\r\\n                     ...</td>\n",
       "      <td>Fine Dining</td>\n",
       "      <td>Conrad Pune, Bund Garden Road</td>\n",
       "      <td>4.1</td>\n",
       "      <td>(159 Reviews)</td>\n",
       "      <td>NaN</td>\n",
       "      <td>NaN</td>\n",
       "      <td>North Indian,</td>\n",
       "      <td>NaN</td>\n",
       "      <td>3000</td>\n",
       "      <td>Rs. 3000</td>\n",
       "      <td>Paan Ice Cream, Biryani, Coffee, Pindi Chole, ...</td>\n",
       "    </tr>\n",
       "    <tr>\n",
       "      <th>7</th>\n",
       "      <td>https://www.zomato.com/pune/koji-conrad-pune-b...</td>\n",
       "      <td>Koji - Conrad Pune\\r\\r\\n                      ...</td>\n",
       "      <td>Fine Dining</td>\n",
       "      <td>Conrad Pune, Bund Garden Road</td>\n",
       "      <td>4.1</td>\n",
       "      <td>(199 Reviews)</td>\n",
       "      <td>NaN</td>\n",
       "      <td>NaN</td>\n",
       "      <td>Thai,Japanese,Chinese,</td>\n",
       "      <td>NaN</td>\n",
       "      <td>3000</td>\n",
       "      <td>Rs. 3000</td>\n",
       "      <td>Sushi, Cocktails, Salmon, Chicken Clay Pot, Ku...</td>\n",
       "    </tr>\n",
       "    <tr>\n",
       "      <th>8</th>\n",
       "      <td>https://www.zomato.com/pune/feast-sheraton-gra...</td>\n",
       "      <td>Feast - Sheraton Grand\\r\\r\\n                  ...</td>\n",
       "      <td>Fine Dining</td>\n",
       "      <td>Sheraton Grand, Bund Garden Road</td>\n",
       "      <td>4.5</td>\n",
       "      <td>(577 Reviews)</td>\n",
       "      <td>NaN</td>\n",
       "      <td>NaN</td>\n",
       "      <td>European,Asian,North Indian,</td>\n",
       "      <td>NaN</td>\n",
       "      <td>3000</td>\n",
       "      <td>Rs. 3000</td>\n",
       "      <td>Pasta, Salad, Sea Food, Coffee, Paan Ice Cream...</td>\n",
       "    </tr>\n",
       "    <tr>\n",
       "      <th>9</th>\n",
       "      <td>https://www.zomato.com/pune/aasmana-the-ritz-c...</td>\n",
       "      <td>Aasmana: The Ritz-Carlton\\r\\r\\n               ...</td>\n",
       "      <td>Fine Dining</td>\n",
       "      <td>Ritz Carlton, Yerwada</td>\n",
       "      <td>3.7</td>\n",
       "      <td>(22 Reviews)</td>\n",
       "      <td>NaN</td>\n",
       "      <td>NaN</td>\n",
       "      <td>Mughlai,Biryani,Kebab,North Indian,</td>\n",
       "      <td>NaN</td>\n",
       "      <td>3000</td>\n",
       "      <td>Rs. 3000</td>\n",
       "      <td>NaN</td>\n",
       "    </tr>\n",
       "  </tbody>\n",
       "</table>\n",
       "</div>"
      ],
      "text/plain": [
       "                                                link  \\\n",
       "0  https://www.zomato.com/pune/mix@36-the-westin-...   \n",
       "1  https://www.zomato.com/pune/kangan-the-westin-...   \n",
       "2  https://www.zomato.com/pune/coriander-kitchen-...   \n",
       "3  https://www.zomato.com/pune/the-market-the-wes...   \n",
       "4  https://www.zomato.com/pune/vandaag-vivanta-pu...   \n",
       "5  https://www.zomato.com/pune/baan-tao-hyatt-pun...   \n",
       "6  https://www.zomato.com/pune/zeera-conrad-pune-...   \n",
       "7  https://www.zomato.com/pune/koji-conrad-pune-b...   \n",
       "8  https://www.zomato.com/pune/feast-sheraton-gra...   \n",
       "9  https://www.zomato.com/pune/aasmana-the-ritz-c...   \n",
       "\n",
       "                                           rest_name          rest_type  \\\n",
       "0  Mix@36 - The Westin\\r\\r\\n                     ...             Lounge   \n",
       "1  Kangan - The Westin\\r\\r\\n                     ...        Fine Dining   \n",
       "2  Coriander Kitchen - Conrad Pune\\r\\r\\n         ...        Fine Dining   \n",
       "3  The Market - The Westin\\r\\r\\n                 ...        Fine Dining   \n",
       "4  Vandaag - Vivanta Pune\\r\\r\\n                  ...  Pub,Casual Dining   \n",
       "5  Baan Tao - Hyatt Pune\\r\\r\\n                   ...        Fine Dining   \n",
       "6  Zeera - Conrad Pune\\r\\r\\n                     ...        Fine Dining   \n",
       "7  Koji - Conrad Pune\\r\\r\\n                      ...        Fine Dining   \n",
       "8  Feast - Sheraton Grand\\r\\r\\n                  ...        Fine Dining   \n",
       "9  Aasmana: The Ritz-Carlton\\r\\r\\n               ...        Fine Dining   \n",
       "\n",
       "                                loc  dine_rating   dine_reviews  \\\n",
       "0               The Westin, Mundhwa          4.2  (707 Reviews)   \n",
       "1               The Westin, Mundhwa          4.1  (344 Reviews)   \n",
       "2     Conrad Pune, Bund Garden Road          4.5  (541 Reviews)   \n",
       "3               The Westin, Mundhwa          4.0   (55 Reviews)   \n",
       "4           Vivanta Pune, Hinjewadi          3.9  (113 Reviews)   \n",
       "5            Hyatt Pune, Nagar Road          4.5  (739 Reviews)   \n",
       "6     Conrad Pune, Bund Garden Road          4.1  (159 Reviews)   \n",
       "7     Conrad Pune, Bund Garden Road          4.1  (199 Reviews)   \n",
       "8  Sheraton Grand, Bund Garden Road          4.5  (577 Reviews)   \n",
       "9             Ritz Carlton, Yerwada          3.7   (22 Reviews)   \n",
       "\n",
       "   delivery_rating delivery_reviews  \\\n",
       "0              NaN              NaN   \n",
       "1              NaN              NaN   \n",
       "2              NaN              NaN   \n",
       "3              NaN              NaN   \n",
       "4              NaN              NaN   \n",
       "5              NaN              NaN   \n",
       "6              NaN              NaN   \n",
       "7              NaN              NaN   \n",
       "8              NaN              NaN   \n",
       "9              NaN              NaN   \n",
       "\n",
       "                                          cuisine  Unnamed: 9  Cost (RS)  \\\n",
       "0     North Indian,Continental,Asian,Finger Food,         NaN       4300   \n",
       "1                           North Indian,Mughlai,         NaN       3500   \n",
       "2               Mediterranean,Asian,North Indian,         NaN       3200   \n",
       "3                    Asian,European,North Indian,         NaN       3200   \n",
       "4                        Finger Food,Continental,         NaN       3100   \n",
       "5  Salad,Asian,Malaysian,Vietnamese,Thai,Chinese,         NaN       3000   \n",
       "6                                   North Indian,         NaN       3000   \n",
       "7                          Thai,Japanese,Chinese,         NaN       3000   \n",
       "8                    European,Asian,North Indian,         NaN       3000   \n",
       "9             Mughlai,Biryani,Kebab,North Indian,         NaN       3000   \n",
       "\n",
       "       cost                                              liked  \n",
       "0  Rs. 4300                             Cocktails, Chaat, Beer  \n",
       "1  Rs. 3500  Biryani, Veg Platter, Dal Makhani, Butter Chic...  \n",
       "2  Rs. 3200  Pasta, Panipuri, Waffles, Pizza, Salad, Chaat,...  \n",
       "3  Rs. 3200                    Vanilla Ice Cream, Chaat, Sushi  \n",
       "4  Rs. 3100  Cocktails, Beer, Peri Peri Chicken, Fish, Veg ...  \n",
       "5  Rs. 3000  Sushi, Salad, Dumplings, Tom Yum Soup, Dimsum ...  \n",
       "6  Rs. 3000  Paan Ice Cream, Biryani, Coffee, Pindi Chole, ...  \n",
       "7  Rs. 3000  Sushi, Cocktails, Salmon, Chicken Clay Pot, Ku...  \n",
       "8  Rs. 3000  Pasta, Salad, Sea Food, Coffee, Paan Ice Cream...  \n",
       "9  Rs. 3000                                                NaN  "
      ]
     },
     "execution_count": 13,
     "metadata": {},
     "output_type": "execute_result"
    }
   ],
   "source": [
    "df[0:10]"
   ]
  },
  {
   "cell_type": "code",
   "execution_count": 14,
   "id": "3edca9ce",
   "metadata": {},
   "outputs": [
    {
     "name": "stdout",
     "output_type": "stream",
     "text": [
      "<class 'pandas.core.frame.DataFrame'>\n",
      "RangeIndex: 5433 entries, 0 to 5432\n",
      "Data columns (total 13 columns):\n",
      " #   Column            Non-Null Count  Dtype  \n",
      "---  ------            --------------  -----  \n",
      " 0   link              5433 non-null   object \n",
      " 1   rest_name         5433 non-null   object \n",
      " 2   rest_type         4336 non-null   object \n",
      " 3   loc               5433 non-null   object \n",
      " 4   dine_rating       5433 non-null   float64\n",
      " 5   dine_reviews      4829 non-null   object \n",
      " 6   delivery_rating   2539 non-null   float64\n",
      " 7   delivery_reviews  2539 non-null   object \n",
      " 8   cuisine           5433 non-null   object \n",
      " 9   Unnamed: 9        0 non-null      float64\n",
      " 10  Cost (RS)         5433 non-null   int64  \n",
      " 11  cost              5433 non-null   object \n",
      " 12  liked             2603 non-null   object \n",
      "dtypes: float64(3), int64(1), object(9)\n",
      "memory usage: 551.9+ KB\n"
     ]
    }
   ],
   "source": [
    "df.info()"
   ]
  },
  {
   "cell_type": "code",
   "execution_count": 15,
   "id": "3c11ad1e",
   "metadata": {},
   "outputs": [
    {
     "data": {
      "text/plain": [
       "(5433, 13)"
      ]
     },
     "execution_count": 15,
     "metadata": {},
     "output_type": "execute_result"
    }
   ],
   "source": [
    "df.shape"
   ]
  },
  {
   "cell_type": "code",
   "execution_count": 16,
   "id": "fe593a61",
   "metadata": {},
   "outputs": [
    {
     "data": {
      "text/plain": [
       "Index(['link', 'rest_name', 'rest_type', 'loc', 'dine_rating', 'dine_reviews',\n",
       "       'delivery_rating', 'delivery_reviews', 'cuisine', 'Unnamed: 9',\n",
       "       'Cost (RS)', 'cost', 'liked'],\n",
       "      dtype='object')"
      ]
     },
     "execution_count": 16,
     "metadata": {},
     "output_type": "execute_result"
    }
   ],
   "source": [
    "df.columns"
   ]
  },
  {
   "cell_type": "code",
   "execution_count": 23,
   "id": "380b4e0f",
   "metadata": {},
   "outputs": [
    {
     "data": {
      "text/plain": [
       "Index(['rest_type', 'loc', 'dine_rating', 'dine_reviews', 'delivery_rating',\n",
       "       'delivery_reviews', 'cuisine', 'Unnamed: 9', 'Cost (RS)', 'cost',\n",
       "       'liked'],\n",
       "      dtype='object')"
      ]
     },
     "execution_count": 23,
     "metadata": {},
     "output_type": "execute_result"
    }
   ],
   "source": [
    "df=df.iloc[:,1:]\n",
    "df.columns"
   ]
  },
  {
   "cell_type": "code",
   "execution_count": 24,
   "id": "83cc77df",
   "metadata": {},
   "outputs": [
    {
     "data": {
      "text/plain": [
       "Index(['rest_type', 'loc', 'dine_rating', 'dine_reviews', 'delivery_rating',\n",
       "       'delivery_reviews', 'cuisine', 'Unnamed: 9', 'Cost (RS)', 'cost',\n",
       "       'liked'],\n",
       "      dtype='object')"
      ]
     },
     "execution_count": 24,
     "metadata": {},
     "output_type": "execute_result"
    }
   ],
   "source": [
    "df.columns"
   ]
  },
  {
   "cell_type": "code",
   "execution_count": 25,
   "id": "8505dac7",
   "metadata": {},
   "outputs": [
    {
     "data": {
      "text/plain": [
       "Quick Bites                   1546\n",
       "Casual Dining                  939\n",
       "Bakery                         347\n",
       "Dessert Parlor                 327\n",
       "Casual Dining,Bar              244\n",
       "                              ... \n",
       "Dhaba,Bar                        1\n",
       "Kiosk,Quick Bites                1\n",
       "Microbrewery,Casual Dining       1\n",
       "Quick Bites,Confectionery        1\n",
       "Paan Shop                        1\n",
       "Name: rest_type, Length: 66, dtype: int64"
      ]
     },
     "execution_count": 25,
     "metadata": {},
     "output_type": "execute_result"
    }
   ],
   "source": [
    "#how many types of resta are there?\n",
    "df['rest_type'].value_counts()"
   ]
  },
  {
   "cell_type": "code",
   "execution_count": 26,
   "id": "fc4973a9",
   "metadata": {},
   "outputs": [
    {
     "data": {
      "text/plain": [
       "Quick Bites              1546\n",
       "Casual Dining             939\n",
       "Bakery                    347\n",
       "Dessert Parlor            327\n",
       "Casual Dining,Bar         244\n",
       "Café                      212\n",
       "Bar,Casual Dining         126\n",
       "Bakery,Dessert Parlor      72\n",
       "Beverage Shop              61\n",
       "Sweet Shop                 59\n",
       "Name: rest_type, dtype: int64"
      ]
     },
     "execution_count": 26,
     "metadata": {},
     "output_type": "execute_result"
    }
   ],
   "source": [
    "#how many types of resta are there?  -- for first 10 rows\n",
    "df['rest_type'].value_counts()[:10]"
   ]
  },
  {
   "cell_type": "code",
   "execution_count": 27,
   "id": "55bdd29c",
   "metadata": {},
   "outputs": [],
   "source": [
    "rest_type_values= df['rest_type'].value_counts()[:10]"
   ]
  },
  {
   "cell_type": "code",
   "execution_count": 28,
   "id": "0abb9fab",
   "metadata": {},
   "outputs": [
    {
     "data": {
      "text/plain": [
       "<AxesSubplot:xlabel='rest_type'>"
      ]
     },
     "execution_count": 28,
     "metadata": {},
     "output_type": "execute_result"
    },
    {
     "data": {
      "image/png": "[encoded data removed]",
      "text/plain": [
       "<Figure size 432x288 with 1 Axes>"
      ]
     },
     "metadata": {
      "needs_background": "light"
     },
     "output_type": "display_data"
    }
   ],
   "source": [
    "sns.barplot(rest_type_values,rest_type_values.index)"
   ]
  },
  {
   "cell_type": "code",
   "execution_count": 29,
   "id": "78ebf749",
   "metadata": {},
   "outputs": [
    {
     "data": {
      "text/plain": [
       "0       North Indian,Continental,Asian,Finger Food,\n",
       "1                             North Indian,Mughlai,\n",
       "2                 Mediterranean,Asian,North Indian,\n",
       "3                      Asian,European,North Indian,\n",
       "4                          Finger Food,Continental,\n",
       "                           ...                     \n",
       "5428             South Indian,Chinese,North Indian,\n",
       "5429                               Mughlai,Iranian,\n",
       "5430                Chinese,Fast Food,North Indian,\n",
       "5431       Beverages,Chinese,Street Food,Fast Food,\n",
       "5432                                  Thai,Chinese,\n",
       "Name: cuisine, Length: 5433, dtype: object"
      ]
     },
     "execution_count": 29,
     "metadata": {},
     "output_type": "execute_result"
    }
   ],
   "source": [
    "df['cuisine']"
   ]
  },
  {
   "cell_type": "code",
   "execution_count": 30,
   "id": "bdf451c6",
   "metadata": {},
   "outputs": [
    {
     "name": "stdout",
     "output_type": "stream",
     "text": [
      "['North Indian', 'Continental', 'Asian', 'Finger Food', '', 'Mughlai', 'Mediterranean', 'European', 'Salad', 'Malaysian', 'Vietnamese', 'Thai', 'Chinese', 'Japanese', 'Biryani', 'Kebab', 'Italian', 'Bar Food', 'Seafood', 'Fast Food', 'Healthy Food', 'Mexican', 'Desserts', 'American', 'Greek', 'Maharashtrian', 'Beverages', 'South American', 'Steak', 'Brazilian', 'Malwani', 'South Indian', 'Chettinad', 'Kerala', 'Mangalorean', 'Pizza', 'Iranian', 'Goan', 'Charcoal Chicken', 'Cafe', 'Modern Indian', 'Korean', 'Sushi', 'Cantonese', 'Momos', 'Bakery', 'Tea', 'BBQ', 'Mongolian', 'Tex-Mex', 'Lebanese', 'Street Food', 'Cuisine Varies', 'Sandwich', 'Middle Eastern', 'African', 'Ethiopian', 'Burger', 'Hyderabadi', 'Parsi', 'German', 'Konkan', 'Rolls', 'Singaporean', 'Indonesian', 'Rajasthani', 'Lucknowi', 'Burmese', 'Bengali', 'Ice Cream', 'Kashmiri', 'Arabian', 'Gujarati', 'French', 'Tibetan', 'Coffee', 'Mithai', 'Bihari', 'Wraps', 'Odia', 'Juices', 'Raw Meats', 'Turkish', 'Frozen Yogurt', 'Awadhi', 'Afghan', 'Paan', 'Assamese', 'Andhra', 'Panini', 'Mishti', 'Naga']\n",
      "92\n"
     ]
    }
   ],
   "source": [
    "#No. of cuisine in Pune\n",
    "cuisine = []\n",
    "for i in df['cuisine']:\n",
    "    for j in i.split(\",\"):\n",
    "        if j not in cuisine:\n",
    "            cuisine.append(j)\n",
    "print(cuisine)\n",
    "print(len(cuisine))"
   ]
  },
  {
   "cell_type": "code",
   "execution_count": 31,
   "id": "a629076c",
   "metadata": {},
   "outputs": [
    {
     "name": "stdout",
     "output_type": "stream",
     "text": [
      "2130\n"
     ]
    }
   ],
   "source": [
    "# how many restaurant giving North Indian\n",
    "a=[]\n",
    "b=[]\n",
    "for i in df['cuisine']:\n",
    "    a=i.split(',')\n",
    "    b.append(a)\n",
    "count=0\n",
    "for i in b:\n",
    "    for j in i:\n",
    "        if j=='North Indian':\n",
    "            count=count+1\n",
    "print(count)"
   ]
  },
  {
   "cell_type": "code",
   "execution_count": 32,
   "id": "a6bd9417",
   "metadata": {},
   "outputs": [
    {
     "name": "stdout",
     "output_type": "stream",
     "text": [
      "598\n"
     ]
    }
   ],
   "source": [
    "# how many restaurant giving Biryani\n",
    "a=[]\n",
    "b=[]\n",
    "for i in df['cuisine']:\n",
    "    a=i.split(',')\n",
    "    b.append(a)\n",
    "count=0\n",
    "for i in b:\n",
    "    for j in i:\n",
    "        if j=='Biryani':\n",
    "            count=count+1\n",
    "print(count)"
   ]
  },
  {
   "cell_type": "code",
   "execution_count": 33,
   "id": "f9907beb",
   "metadata": {},
   "outputs": [],
   "source": [
    "#no. of restauranrt per cuisine"
   ]
  },
  {
   "cell_type": "code",
   "execution_count": 34,
   "id": "f5b5df6f",
   "metadata": {},
   "outputs": [
    {
     "name": "stdout",
     "output_type": "stream",
     "text": [
      "20926\n"
     ]
    }
   ],
   "source": [
    "\n",
    "a=[]\n",
    "b=[]\n",
    "for i in df['cuisine']:\n",
    "    a=i.split(',')\n",
    "    b.append(a)\n",
    "count=0\n",
    "for i in b:\n",
    "    for j in i:\n",
    "        if j not in df['cuisine']:\n",
    "            count=count+1\n",
    "print(count)"
   ]
  },
  {
   "cell_type": "code",
   "execution_count": 35,
   "id": "78874ba7",
   "metadata": {},
   "outputs": [],
   "source": [
    "cuisine_values= df['cuisine'].value_counts()[:10]"
   ]
  },
  {
   "cell_type": "code",
   "execution_count": 36,
   "id": "89adcc6f",
   "metadata": {},
   "outputs": [
    {
     "data": {
      "text/plain": [
       "<AxesSubplot:xlabel='cuisine'>"
      ]
     },
     "execution_count": 36,
     "metadata": {},
     "output_type": "execute_result"
    },
    {
     "data": {
      "image/png": "[encoded data removed]",
      "text/plain": [
       "<Figure size 432x288 with 1 Axes>"
      ]
     },
     "metadata": {
      "needs_background": "light"
     },
     "output_type": "display_data"
    }
   ],
   "source": [
    "sns.barplot(cuisine_values,cuisine_values.index)"
   ]
  },
  {
   "cell_type": "code",
   "execution_count": 37,
   "id": "a7877cba",
   "metadata": {},
   "outputs": [
    {
     "data": {
      "text/plain": [
       "477"
      ]
     },
     "execution_count": 37,
     "metadata": {},
     "output_type": "execute_result"
    }
   ],
   "source": [
    "df.duplicated().sum()"
   ]
  },
  {
   "cell_type": "code",
   "execution_count": 38,
   "id": "2e28de90",
   "metadata": {},
   "outputs": [],
   "source": [
    "df=df.drop_duplicates()"
   ]
  },
  {
   "cell_type": "code",
   "execution_count": 39,
   "id": "97e2577e",
   "metadata": {},
   "outputs": [],
   "source": [
    "total_locations= df['loc'].value_counts()[:10]\n",
    "total_locations\n",
    "places= total_locations.index"
   ]
  },
  {
   "cell_type": "code",
   "execution_count": 40,
   "id": "73059ad0",
   "metadata": {},
   "outputs": [
    {
     "data": {
      "text/plain": [
       "0"
      ]
     },
     "execution_count": 40,
     "metadata": {},
     "output_type": "execute_result"
    }
   ],
   "source": [
    "df.duplicated().sum()"
   ]
  },
  {
   "cell_type": "code",
   "execution_count": 41,
   "id": "bf2bc176",
   "metadata": {},
   "outputs": [
    {
     "name": "stdout",
     "output_type": "stream",
     "text": [
      "[4.912684705430819, 4.125887545576664, 4.068317021684898, 3.9339857992707734, 3.876415275379006, 3.454231433506045, 3.3390903857225105, 2.6866244482824797, 2.5139128766071774, 2.072538860103627]\n"
     ]
    }
   ],
   "source": [
    "def divide_by(x):\n",
    "    a=[]\n",
    "    for i in x:\n",
    "        a.append((i/5211)*100)\n",
    "    return a\n",
    "percentage_distribution = divide_by(total_locations)\n",
    "print(percentage_distribution)"
   ]
  },
  {
   "cell_type": "code",
   "execution_count": 42,
   "id": "4e2e6ee3",
   "metadata": {},
   "outputs": [
    {
     "data": {
      "text/plain": [
       "(-1.106440101875398,\n",
       " 1.1003066715178762,\n",
       " -1.1033149407446305,\n",
       " 1.1055279287727595)"
      ]
     },
     "execution_count": 42,
     "metadata": {},
     "output_type": "execute_result"
    },
    {
     "data": {
      "image/png": "[encoded data removed]",
      "text/plain": [
       "<Figure size 432x288 with 1 Axes>"
      ]
     },
     "metadata": {},
     "output_type": "display_data"
    }
   ],
   "source": [
    "labels = places\n",
    "sizes = percentage_distribution\n",
    "plt.pie(sizes, labels = labels, autopct='%1.1f%%', shadow= True)\n",
    "plt.axis('equal')"
   ]
  },
  {
   "cell_type": "code",
   "execution_count": 43,
   "id": "33a62bf9",
   "metadata": {},
   "outputs": [
    {
     "data": {
      "text/plain": [
       "<AxesSubplot:xlabel='loc'>"
      ]
     },
     "execution_count": 43,
     "metadata": {},
     "output_type": "execute_result"
    },
    {
     "data": {
      "image/png": "[encoded data removed]",
      "text/plain": [
       "<Figure size 432x288 with 1 Axes>"
      ]
     },
     "metadata": {
      "needs_background": "light"
     },
     "output_type": "display_data"
    }
   ],
   "source": [
    "sns.barplot(total_locations,total_locations.index)"
   ]
  },
  {
   "cell_type": "code",
   "execution_count": 44,
   "id": "96b5ff73",
   "metadata": {},
   "outputs": [
    {
     "data": {
      "text/plain": [
       "(array([ 549.,    0.,    0.,    0.,   60.,  379.,  943., 1771., 1120.,\n",
       "         134.]),\n",
       " array([0.  , 0.49, 0.98, 1.47, 1.96, 2.45, 2.94, 3.43, 3.92, 4.41, 4.9 ]),\n",
       " <BarContainer object of 10 artists>)"
      ]
     },
     "execution_count": 44,
     "metadata": {},
     "output_type": "execute_result"
    },
    {
     "data": {
      "image/png": "[encoded data removed]",
      "text/plain": [
       "<Figure size 432x288 with 1 Axes>"
      ]
     },
     "metadata": {
      "needs_background": "light"
     },
     "output_type": "display_data"
    }
   ],
   "source": [
    "df['dine_rating']\n",
    "plt.hist(df['dine_rating'])"
   ]
  },
  {
   "cell_type": "code",
   "execution_count": 45,
   "id": "9199333b",
   "metadata": {},
   "outputs": [
    {
     "data": {
      "text/plain": [
       "2671"
      ]
     },
     "execution_count": 45,
     "metadata": {},
     "output_type": "execute_result"
    }
   ],
   "source": [
    "df['delivery_rating'].isnull().sum()"
   ]
  },
  {
   "cell_type": "code",
   "execution_count": 46,
   "id": "505163ec",
   "metadata": {},
   "outputs": [],
   "source": [
    "df['delivery_rating'].dropna(inplace=True)"
   ]
  },
  {
   "cell_type": "code",
   "execution_count": 47,
   "id": "672c9668",
   "metadata": {},
   "outputs": [
    {
     "data": {
      "text/plain": [
       "0       NaN\n",
       "1       NaN\n",
       "2       NaN\n",
       "3       NaN\n",
       "4       NaN\n",
       "       ... \n",
       "5428    3.5\n",
       "5429    NaN\n",
       "5430    NaN\n",
       "5431    3.1\n",
       "5432    3.8\n",
       "Name: delivery_rating, Length: 4956, dtype: float64"
      ]
     },
     "execution_count": 47,
     "metadata": {},
     "output_type": "execute_result"
    }
   ],
   "source": [
    "df['delivery_rating']          #hist=numerical data\n",
    "                               #plot= other data"
   ]
  },
  {
   "cell_type": "code",
   "execution_count": 48,
   "id": "20acee0b",
   "metadata": {},
   "outputs": [
    {
     "data": {
      "text/plain": [
       "(array([  2.,   0.,  19.,  72., 141., 366., 878., 606., 179.,  22.]),\n",
       " array([2.  , 2.28, 2.56, 2.84, 3.12, 3.4 , 3.68, 3.96, 4.24, 4.52, 4.8 ]),\n",
       " <BarContainer object of 10 artists>)"
      ]
     },
     "execution_count": 48,
     "metadata": {},
     "output_type": "execute_result"
    },
    {
     "data": {
      "image/png": "[encoded data removed]",
      "text/plain": [
       "<Figure size 432x288 with 1 Axes>"
      ]
     },
     "metadata": {
      "needs_background": "light"
     },
     "output_type": "display_data"
    }
   ],
   "source": [
    "df['delivery_rating']\n",
    "plt.hist(df['delivery_rating'])"
   ]
  },
  {
   "cell_type": "code",
   "execution_count": 49,
   "id": "6487bf1c",
   "metadata": {},
   "outputs": [
    {
     "data": {
      "text/plain": [
       "<AxesSubplot:xlabel='delivery_rating'>"
      ]
     },
     "execution_count": 49,
     "metadata": {},
     "output_type": "execute_result"
    },
    {
     "data": {
      "image/png": "[encoded data removed]",
      "text/plain": [
       "<Figure size 432x288 with 1 Axes>"
      ]
     },
     "metadata": {
      "needs_background": "light"
     },
     "output_type": "display_data"
    }
   ],
   "source": [
    "sns.boxplot(df['delivery_rating'])              # --out lier(dots) and whiskers(lines)"
   ]
  },
  {
   "cell_type": "code",
   "execution_count": 50,
   "id": "224d57bf",
   "metadata": {},
   "outputs": [
    {
     "data": {
      "text/plain": [
       "<AxesSubplot:xlabel='delivery_rating'>"
      ]
     },
     "execution_count": 50,
     "metadata": {},
     "output_type": "execute_result"
    },
    {
     "data": {
      "image/png": "[encoded data removed]",
      "text/plain": [
       "<Figure size 432x288 with 1 Axes>"
      ]
     },
     "metadata": {
      "needs_background": "light"
     },
     "output_type": "display_data"
    }
   ],
   "source": [
    "sns.violinplot(df['delivery_rating'])"
   ]
  },
  {
   "cell_type": "code",
   "execution_count": 51,
   "id": "36ce5663",
   "metadata": {},
   "outputs": [
    {
     "data": {
      "text/plain": [
       "<AxesSubplot:xlabel='dine_rating'>"
      ]
     },
     "execution_count": 51,
     "metadata": {},
     "output_type": "execute_result"
    },
    {
     "data": {
      "image/png": "[encoded data removed]",
      "text/plain": [
       "<Figure size 432x288 with 1 Axes>"
      ]
     },
     "metadata": {
      "needs_background": "light"
     },
     "output_type": "display_data"
    }
   ],
   "source": [
    "# boxplot and violinplot for dine rating\n",
    "sns.boxplot(df['dine_rating'])"
   ]
  },
  {
   "cell_type": "code",
   "execution_count": 52,
   "id": "c7d1262f",
   "metadata": {},
   "outputs": [
    {
     "data": {
      "text/plain": [
       "<AxesSubplot:xlabel='dine_rating'>"
      ]
     },
     "execution_count": 52,
     "metadata": {},
     "output_type": "execute_result"
    },
    {
     "data": {
      "image/png": "[encoded data removed]",
      "text/plain": [
       "<Figure size 432x288 with 1 Axes>"
      ]
     },
     "metadata": {
      "needs_background": "light"
     },
     "output_type": "display_data"
    }
   ],
   "source": [
    "sns.violinplot(df['dine_rating'])"
   ]
  },
  {
   "cell_type": "code",
   "execution_count": 53,
   "id": "36c73871",
   "metadata": {},
   "outputs": [
    {
     "data": {
      "text/plain": [
       "<AxesSubplot:xlabel='Cost (RS)'>"
      ]
     },
     "execution_count": 53,
     "metadata": {},
     "output_type": "execute_result"
    },
    {
     "data": {
      "image/png": "[encoded data removed]",
      "text/plain": [
       "<Figure size 432x288 with 1 Axes>"
      ]
     },
     "metadata": {
      "needs_background": "light"
     },
     "output_type": "display_data"
    }
   ],
   "source": [
    "sns.boxplot(df['Cost (RS)'])"
   ]
  },
  {
   "cell_type": "code",
   "execution_count": 54,
   "id": "c493c39f",
   "metadata": {},
   "outputs": [
    {
     "data": {
      "text/plain": [
       "<AxesSubplot:xlabel='Cost (RS)'>"
      ]
     },
     "execution_count": 54,
     "metadata": {},
     "output_type": "execute_result"
    },
    {
     "data": {
      "image/png": "[encoded data removed]",
      "text/plain": [
       "<Figure size 432x288 with 1 Axes>"
      ]
     },
     "metadata": {
      "needs_background": "light"
     },
     "output_type": "display_data"
    }
   ],
   "source": [
    "sns.violinplot(df['Cost (RS)'])"
   ]
  },
  {
   "cell_type": "code",
   "execution_count": 55,
   "id": "8e44fb19",
   "metadata": {},
   "outputs": [
    {
     "data": {
      "text/plain": [
       "<function matplotlib.pyplot.show(close=None, block=None)>"
      ]
     },
     "execution_count": 55,
     "metadata": {},
     "output_type": "execute_result"
    },
    {
     "data": {
      "image/png": "[encoded data removed]",
      "text/plain": [
       "<Figure size 368x360 with 1 Axes>"
      ]
     },
     "metadata": {
      "needs_background": "light"
     },
     "output_type": "display_data"
    }
   ],
   "source": [
    "sns.FacetGrid(df,size=5).map(sns.distplot, \"Cost (RS)\").add_legend()\n",
    "plt.show"
   ]
  },
  {
   "cell_type": "code",
   "execution_count": 56,
   "id": "c1a4e448",
   "metadata": {},
   "outputs": [],
   "source": [
    "df2=df.groupby(['loc'])        #--- seperate into groups location wise"
   ]
  },
  {
   "cell_type": "code",
   "execution_count": 57,
   "id": "299c620e",
   "metadata": {},
   "outputs": [],
   "source": [
    "kothrud=df2.get_group(\"Kothrud\")    #--- gives group of kothrud"
   ]
  },
  {
   "cell_type": "code",
   "execution_count": 58,
   "id": "63b554ae",
   "metadata": {},
   "outputs": [
    {
     "data": {
      "text/html": [
       "<div>\n",
       "<style scoped>\n",
       "    .dataframe tbody tr th:only-of-type {\n",
       "        vertical-align: middle;\n",
       "    }\n",
       "\n",
       "    .dataframe tbody tr th {\n",
       "        vertical-align: top;\n",
       "    }\n",
       "\n",
       "    .dataframe thead th {\n",
       "        text-align: right;\n",
       "    }\n",
       "</style>\n",
       "<table border=\"1\" class=\"dataframe\">\n",
       "  <thead>\n",
       "    <tr style=\"text-align: right;\">\n",
       "      <th></th>\n",
       "      <th>rest_type</th>\n",
       "      <th>loc</th>\n",
       "      <th>dine_rating</th>\n",
       "      <th>dine_reviews</th>\n",
       "      <th>delivery_rating</th>\n",
       "      <th>delivery_reviews</th>\n",
       "      <th>cuisine</th>\n",
       "      <th>Unnamed: 9</th>\n",
       "      <th>Cost (RS)</th>\n",
       "      <th>cost</th>\n",
       "      <th>liked</th>\n",
       "    </tr>\n",
       "  </thead>\n",
       "  <tbody>\n",
       "    <tr>\n",
       "      <th>161</th>\n",
       "      <td>Casual Dining,Bar</td>\n",
       "      <td>Kothrud</td>\n",
       "      <td>0.0</td>\n",
       "      <td>NaN</td>\n",
       "      <td>NaN</td>\n",
       "      <td>NaN</td>\n",
       "      <td>Beverages,Chinese,Continental,</td>\n",
       "      <td>NaN</td>\n",
       "      <td>1700</td>\n",
       "      <td>Rs. 1700</td>\n",
       "      <td>NaN</td>\n",
       "    </tr>\n",
       "    <tr>\n",
       "      <th>183</th>\n",
       "      <td>Casual Dining,Bar</td>\n",
       "      <td>Kothrud</td>\n",
       "      <td>4.1</td>\n",
       "      <td>(238 Reviews)</td>\n",
       "      <td>NaN</td>\n",
       "      <td>NaN</td>\n",
       "      <td>European,Middle Eastern,Continental,North Indi...</td>\n",
       "      <td>NaN</td>\n",
       "      <td>1600</td>\n",
       "      <td>Rs. 1600</td>\n",
       "      <td>NaN</td>\n",
       "    </tr>\n",
       "    <tr>\n",
       "      <th>191</th>\n",
       "      <td>Bar,Casual Dining</td>\n",
       "      <td>Kothrud</td>\n",
       "      <td>3.7</td>\n",
       "      <td>(38 Reviews)</td>\n",
       "      <td>NaN</td>\n",
       "      <td>NaN</td>\n",
       "      <td>North Indian,Chinese,</td>\n",
       "      <td>NaN</td>\n",
       "      <td>1600</td>\n",
       "      <td>Rs. 1600</td>\n",
       "      <td>NaN</td>\n",
       "    </tr>\n",
       "    <tr>\n",
       "      <th>214</th>\n",
       "      <td>Casual Dining</td>\n",
       "      <td>Kothrud</td>\n",
       "      <td>4.6</td>\n",
       "      <td>-1,591</td>\n",
       "      <td>4.3</td>\n",
       "      <td>-1,797</td>\n",
       "      <td>Finger Food,North Indian,Asian,Continental,</td>\n",
       "      <td>NaN</td>\n",
       "      <td>1500</td>\n",
       "      <td>Rs. 1500</td>\n",
       "      <td>Cocktails, Pizza, Pasta, Filtered Coffee, Nach...</td>\n",
       "    </tr>\n",
       "    <tr>\n",
       "      <th>236</th>\n",
       "      <td>Casual Dining</td>\n",
       "      <td>Kothrud</td>\n",
       "      <td>3.0</td>\n",
       "      <td>(91 Reviews)</td>\n",
       "      <td>NaN</td>\n",
       "      <td>NaN</td>\n",
       "      <td>Beverages,Desserts,Cafe,Italian,Continental,Ge...</td>\n",
       "      <td>NaN</td>\n",
       "      <td>1000</td>\n",
       "      <td>Rs. 1000</td>\n",
       "      <td>NaN</td>\n",
       "    </tr>\n",
       "    <tr>\n",
       "      <th>...</th>\n",
       "      <td>...</td>\n",
       "      <td>...</td>\n",
       "      <td>...</td>\n",
       "      <td>...</td>\n",
       "      <td>...</td>\n",
       "      <td>...</td>\n",
       "      <td>...</td>\n",
       "      <td>...</td>\n",
       "      <td>...</td>\n",
       "      <td>...</td>\n",
       "      <td>...</td>\n",
       "    </tr>\n",
       "    <tr>\n",
       "      <th>5251</th>\n",
       "      <td>NaN</td>\n",
       "      <td>Kothrud</td>\n",
       "      <td>0.0</td>\n",
       "      <td>NaN</td>\n",
       "      <td>NaN</td>\n",
       "      <td>NaN</td>\n",
       "      <td>Ice Cream,</td>\n",
       "      <td>NaN</td>\n",
       "      <td>150</td>\n",
       "      <td>Rs. 150</td>\n",
       "      <td>NaN</td>\n",
       "    </tr>\n",
       "    <tr>\n",
       "      <th>5339</th>\n",
       "      <td>Café</td>\n",
       "      <td>Kothrud</td>\n",
       "      <td>4.0</td>\n",
       "      <td>-113</td>\n",
       "      <td>4.1</td>\n",
       "      <td>-570</td>\n",
       "      <td>Mexican,Cafe,</td>\n",
       "      <td>NaN</td>\n",
       "      <td>650</td>\n",
       "      <td>Rs. 650</td>\n",
       "      <td>Nachos, Burrito Bowl, Coffee, Hot Chocolate, K...</td>\n",
       "    </tr>\n",
       "    <tr>\n",
       "      <th>5343</th>\n",
       "      <td>Casual Dining</td>\n",
       "      <td>Kothrud</td>\n",
       "      <td>3.6</td>\n",
       "      <td>-32</td>\n",
       "      <td>4.2</td>\n",
       "      <td>-257</td>\n",
       "      <td>Maharashtrian,Fast Food,Seafood,North Indian,</td>\n",
       "      <td>NaN</td>\n",
       "      <td>500</td>\n",
       "      <td>Rs. 500</td>\n",
       "      <td>NaN</td>\n",
       "    </tr>\n",
       "    <tr>\n",
       "      <th>5374</th>\n",
       "      <td>Quick Bites</td>\n",
       "      <td>Kothrud</td>\n",
       "      <td>2.9</td>\n",
       "      <td>-356</td>\n",
       "      <td>3.8</td>\n",
       "      <td>-4,726</td>\n",
       "      <td>Ice Cream,Momos,</td>\n",
       "      <td>NaN</td>\n",
       "      <td>300</td>\n",
       "      <td>Rs. 300</td>\n",
       "      <td>Chicken 65, Iced Tea, Veg Momos, Tandoori Momo...</td>\n",
       "    </tr>\n",
       "    <tr>\n",
       "      <th>5400</th>\n",
       "      <td>NaN</td>\n",
       "      <td>Kothrud</td>\n",
       "      <td>0.0</td>\n",
       "      <td>NaN</td>\n",
       "      <td>NaN</td>\n",
       "      <td>NaN</td>\n",
       "      <td>Beverages,South Indian,Street Food,</td>\n",
       "      <td>NaN</td>\n",
       "      <td>200</td>\n",
       "      <td>Rs. 200</td>\n",
       "      <td>NaN</td>\n",
       "    </tr>\n",
       "  </tbody>\n",
       "</table>\n",
       "<p>256 rows × 11 columns</p>\n",
       "</div>"
      ],
      "text/plain": [
       "              rest_type      loc  dine_rating   dine_reviews  delivery_rating  \\\n",
       "161   Casual Dining,Bar  Kothrud          0.0            NaN              NaN   \n",
       "183   Casual Dining,Bar  Kothrud          4.1  (238 Reviews)              NaN   \n",
       "191   Bar,Casual Dining  Kothrud          3.7   (38 Reviews)              NaN   \n",
       "214       Casual Dining  Kothrud          4.6         -1,591              4.3   \n",
       "236       Casual Dining  Kothrud          3.0   (91 Reviews)              NaN   \n",
       "...                 ...      ...          ...            ...              ...   \n",
       "5251                NaN  Kothrud          0.0            NaN              NaN   \n",
       "5339               Café  Kothrud          4.0           -113              4.1   \n",
       "5343      Casual Dining  Kothrud          3.6            -32              4.2   \n",
       "5374        Quick Bites  Kothrud          2.9           -356              3.8   \n",
       "5400                NaN  Kothrud          0.0            NaN              NaN   \n",
       "\n",
       "     delivery_reviews                                            cuisine  \\\n",
       "161               NaN                     Beverages,Chinese,Continental,   \n",
       "183               NaN  European,Middle Eastern,Continental,North Indi...   \n",
       "191               NaN                              North Indian,Chinese,   \n",
       "214            -1,797        Finger Food,North Indian,Asian,Continental,   \n",
       "236               NaN  Beverages,Desserts,Cafe,Italian,Continental,Ge...   \n",
       "...               ...                                                ...   \n",
       "5251              NaN                                         Ice Cream,   \n",
       "5339             -570                                      Mexican,Cafe,   \n",
       "5343             -257      Maharashtrian,Fast Food,Seafood,North Indian,   \n",
       "5374           -4,726                                   Ice Cream,Momos,   \n",
       "5400              NaN                Beverages,South Indian,Street Food,   \n",
       "\n",
       "      Unnamed: 9  Cost (RS)      cost  \\\n",
       "161          NaN       1700  Rs. 1700   \n",
       "183          NaN       1600  Rs. 1600   \n",
       "191          NaN       1600  Rs. 1600   \n",
       "214          NaN       1500  Rs. 1500   \n",
       "236          NaN       1000  Rs. 1000   \n",
       "...          ...        ...       ...   \n",
       "5251         NaN        150   Rs. 150   \n",
       "5339         NaN        650   Rs. 650   \n",
       "5343         NaN        500   Rs. 500   \n",
       "5374         NaN        300   Rs. 300   \n",
       "5400         NaN        200   Rs. 200   \n",
       "\n",
       "                                                  liked  \n",
       "161                                                 NaN  \n",
       "183                                                 NaN  \n",
       "191                                                 NaN  \n",
       "214   Cocktails, Pizza, Pasta, Filtered Coffee, Nach...  \n",
       "236                                                 NaN  \n",
       "...                                                 ...  \n",
       "5251                                                NaN  \n",
       "5339  Nachos, Burrito Bowl, Coffee, Hot Chocolate, K...  \n",
       "5343                                                NaN  \n",
       "5374  Chicken 65, Iced Tea, Veg Momos, Tandoori Momo...  \n",
       "5400                                                NaN  \n",
       "\n",
       "[256 rows x 11 columns]"
      ]
     },
     "execution_count": 58,
     "metadata": {},
     "output_type": "execute_result"
    }
   ],
   "source": [
    "kothrud"
   ]
  },
  {
   "cell_type": "code",
   "execution_count": 59,
   "id": "331c39c9",
   "metadata": {},
   "outputs": [
    {
     "data": {
      "text/plain": [
       "(array([50., 89., 47., 26.,  6., 12., 11.,  2., 10.,  3.]),\n",
       " array([ 100.,  260.,  420.,  580.,  740.,  900., 1060., 1220., 1380.,\n",
       "        1540., 1700.]),\n",
       " <BarContainer object of 10 artists>)"
      ]
     },
     "execution_count": 59,
     "metadata": {},
     "output_type": "execute_result"
    },
    {
     "data": {
      "image/png": "[encoded data removed]",
      "text/plain": [
       "<Figure size 432x288 with 1 Axes>"
      ]
     },
     "metadata": {
      "needs_background": "light"
     },
     "output_type": "display_data"
    }
   ],
   "source": [
    "plt.hist(kothrud['Cost (RS)'])"
   ]
  },
  {
   "cell_type": "code",
   "execution_count": 60,
   "id": "02151532",
   "metadata": {},
   "outputs": [
    {
     "data": {
      "text/plain": [
       "<AxesSubplot:xlabel='Cost (RS)'>"
      ]
     },
     "execution_count": 60,
     "metadata": {},
     "output_type": "execute_result"
    },
    {
     "data": {
      "image/png": "[encoded data removed]",
      "text/plain": [
       "<Figure size 432x288 with 1 Axes>"
      ]
     },
     "metadata": {
      "needs_background": "light"
     },
     "output_type": "display_data"
    }
   ],
   "source": [
    "sns.boxplot(kothrud['Cost (RS)'])"
   ]
  },
  {
   "cell_type": "code",
   "execution_count": 69,
   "id": "a84014c3",
   "metadata": {},
   "outputs": [],
   "source": [
    "ratings_bw=df[(df['dine_rating']>4) & (df['dine_rating']<4.5)]"
   ]
  },
  {
   "cell_type": "code",
   "execution_count": 70,
   "id": "cdda1750",
   "metadata": {},
   "outputs": [
    {
     "data": {
      "text/plain": [
       "Baner                                   45\n",
       "Viman Nagar                             41\n",
       "Kothrud                                 35\n",
       "Koregaon Park                           33\n",
       "Wakad                                   25\n",
       "                                        ..\n",
       "The Ramee Grand Hotel, Shivaji Nagar     1\n",
       "Grand Exotica Business Hotel             1\n",
       "Aditi Mall, Baner Road                   1\n",
       "Picaddle Resort, Lonavala                1\n",
       "Parichay Hotel, FC Road                  1\n",
       "Name: loc, Length: 115, dtype: int64"
      ]
     },
     "execution_count": 70,
     "metadata": {},
     "output_type": "execute_result"
    }
   ],
   "source": [
    "ratings_bw['loc'].value_counts()"
   ]
  },
  {
   "cell_type": "code",
   "execution_count": 72,
   "id": "f58697f2",
   "metadata": {},
   "outputs": [
    {
     "data": {
      "text/html": [
       "<div>\n",
       "<style scoped>\n",
       "    .dataframe tbody tr th:only-of-type {\n",
       "        vertical-align: middle;\n",
       "    }\n",
       "\n",
       "    .dataframe tbody tr th {\n",
       "        vertical-align: top;\n",
       "    }\n",
       "\n",
       "    .dataframe thead th {\n",
       "        text-align: right;\n",
       "    }\n",
       "</style>\n",
       "<table border=\"1\" class=\"dataframe\">\n",
       "  <thead>\n",
       "    <tr style=\"text-align: right;\">\n",
       "      <th></th>\n",
       "      <th>rest_type</th>\n",
       "      <th>loc</th>\n",
       "      <th>dine_rating</th>\n",
       "      <th>dine_reviews</th>\n",
       "      <th>delivery_rating</th>\n",
       "      <th>delivery_reviews</th>\n",
       "      <th>cuisine</th>\n",
       "      <th>Unnamed: 9</th>\n",
       "      <th>Cost (RS)</th>\n",
       "      <th>cost</th>\n",
       "      <th>liked</th>\n",
       "    </tr>\n",
       "  </thead>\n",
       "  <tbody>\n",
       "    <tr>\n",
       "      <th>142</th>\n",
       "      <td>Lounge,Casual Dining</td>\n",
       "      <td>Baner</td>\n",
       "      <td>4.2</td>\n",
       "      <td>(952 Reviews)</td>\n",
       "      <td>NaN</td>\n",
       "      <td>NaN</td>\n",
       "      <td>North Indian,Continental,</td>\n",
       "      <td>NaN</td>\n",
       "      <td>1700</td>\n",
       "      <td>Rs. 1700</td>\n",
       "      <td>Pizza, Cocktails, Mocktails, Brownie, Paneer T...</td>\n",
       "    </tr>\n",
       "    <tr>\n",
       "      <th>181</th>\n",
       "      <td>Casual Dining,Bar</td>\n",
       "      <td>Baner</td>\n",
       "      <td>4.1</td>\n",
       "      <td>-653</td>\n",
       "      <td>4.1</td>\n",
       "      <td>-193</td>\n",
       "      <td>Sandwich,Italian,Seafood,Chinese,Mughlai,North...</td>\n",
       "      <td>NaN</td>\n",
       "      <td>1600</td>\n",
       "      <td>Rs. 1600</td>\n",
       "      <td>Paan Shot, Peri Peri Chicken, Paneer Lababdar,...</td>\n",
       "    </tr>\n",
       "    <tr>\n",
       "      <th>190</th>\n",
       "      <td>Bar</td>\n",
       "      <td>Baner</td>\n",
       "      <td>4.1</td>\n",
       "      <td>-634</td>\n",
       "      <td>3.3</td>\n",
       "      <td>-393</td>\n",
       "      <td>Chinese,North Indian,Continental,Bar Food,</td>\n",
       "      <td>NaN</td>\n",
       "      <td>1600</td>\n",
       "      <td>Rs. 1600</td>\n",
       "      <td>Cocktails, Mocktails, Paneer Khurchan, Cheese ...</td>\n",
       "    </tr>\n",
       "    <tr>\n",
       "      <th>221</th>\n",
       "      <td>Microbrewery</td>\n",
       "      <td>Baner</td>\n",
       "      <td>4.3</td>\n",
       "      <td>-471</td>\n",
       "      <td>4.1</td>\n",
       "      <td>-238</td>\n",
       "      <td>Salad,Continental,Finger Food,</td>\n",
       "      <td>NaN</td>\n",
       "      <td>1500</td>\n",
       "      <td>Rs. 1500</td>\n",
       "      <td>Cocktails, Popcorn, Sangria, Beer, Mushroom Cr...</td>\n",
       "    </tr>\n",
       "    <tr>\n",
       "      <th>231</th>\n",
       "      <td>Casual Dining</td>\n",
       "      <td>Baner</td>\n",
       "      <td>4.1</td>\n",
       "      <td>(119 Reviews)</td>\n",
       "      <td>NaN</td>\n",
       "      <td>NaN</td>\n",
       "      <td>Continental,Mexican,North Indian,Asian,Italian,</td>\n",
       "      <td>NaN</td>\n",
       "      <td>1500</td>\n",
       "      <td>Rs. 1500</td>\n",
       "      <td>NaN</td>\n",
       "    </tr>\n",
       "    <tr>\n",
       "      <th>248</th>\n",
       "      <td>Casual Dining</td>\n",
       "      <td>Baner</td>\n",
       "      <td>4.2</td>\n",
       "      <td>(390 Reviews)</td>\n",
       "      <td>NaN</td>\n",
       "      <td>NaN</td>\n",
       "      <td>Fast Food,Chinese,Mughlai,North Indian,</td>\n",
       "      <td>NaN</td>\n",
       "      <td>1500</td>\n",
       "      <td>Rs. 1500</td>\n",
       "      <td>Cocktails, Mocktails, Thin Crust Pizza, Pasta,...</td>\n",
       "    </tr>\n",
       "    <tr>\n",
       "      <th>257</th>\n",
       "      <td>Bar,Casual Dining</td>\n",
       "      <td>Baner</td>\n",
       "      <td>4.4</td>\n",
       "      <td>(708 Reviews)</td>\n",
       "      <td>NaN</td>\n",
       "      <td>NaN</td>\n",
       "      <td>Finger Food,Continental,North Indian,</td>\n",
       "      <td>NaN</td>\n",
       "      <td>1500</td>\n",
       "      <td>Rs. 1500</td>\n",
       "      <td>NaN</td>\n",
       "    </tr>\n",
       "    <tr>\n",
       "      <th>343</th>\n",
       "      <td>Bar,Casual Dining</td>\n",
       "      <td>Baner</td>\n",
       "      <td>4.2</td>\n",
       "      <td>(1,531 Reviews)</td>\n",
       "      <td>NaN</td>\n",
       "      <td>NaN</td>\n",
       "      <td>Seafood,Mughlai,Bar Food,Asian,North Indian,It...</td>\n",
       "      <td>NaN</td>\n",
       "      <td>1400</td>\n",
       "      <td>Rs. 1400</td>\n",
       "      <td>Nachos, Cocktails, Peri Peri Chicken, Pizza, P...</td>\n",
       "    </tr>\n",
       "    <tr>\n",
       "      <th>384</th>\n",
       "      <td>Bar</td>\n",
       "      <td>Baner</td>\n",
       "      <td>4.4</td>\n",
       "      <td>(1,219 Reviews)</td>\n",
       "      <td>NaN</td>\n",
       "      <td>NaN</td>\n",
       "      <td>North Indian,Italian,Modern Indian,Continental,</td>\n",
       "      <td>NaN</td>\n",
       "      <td>1300</td>\n",
       "      <td>Rs. 1300</td>\n",
       "      <td>Cocktails, Pizza, Nachos, Mocktails, Long Isla...</td>\n",
       "    </tr>\n",
       "    <tr>\n",
       "      <th>388</th>\n",
       "      <td>Casual Dining</td>\n",
       "      <td>Baner</td>\n",
       "      <td>4.3</td>\n",
       "      <td>-948</td>\n",
       "      <td>3.9</td>\n",
       "      <td>-1,947</td>\n",
       "      <td>Beverages,Desserts,Rolls,Biryani,Continental,C...</td>\n",
       "      <td>NaN</td>\n",
       "      <td>1300</td>\n",
       "      <td>Rs. 1300</td>\n",
       "      <td>Pasta, Naan, Brownie, Paneer Romanchak, Parath...</td>\n",
       "    </tr>\n",
       "    <tr>\n",
       "      <th>420</th>\n",
       "      <td>Casual Dining</td>\n",
       "      <td>Baner</td>\n",
       "      <td>4.3</td>\n",
       "      <td>-465</td>\n",
       "      <td>4.1</td>\n",
       "      <td>-492</td>\n",
       "      <td>Singaporean,Indonesian,Japanese,Thai,Malaysian...</td>\n",
       "      <td>NaN</td>\n",
       "      <td>1300</td>\n",
       "      <td>Rs. 1300</td>\n",
       "      <td>Khao Suey, Khau Suey, Noodle, Cocktails, Sushi...</td>\n",
       "    </tr>\n",
       "    <tr>\n",
       "      <th>431</th>\n",
       "      <td>Casual Dining,Bar</td>\n",
       "      <td>Baner</td>\n",
       "      <td>4.1</td>\n",
       "      <td>(339 Reviews)</td>\n",
       "      <td>NaN</td>\n",
       "      <td>NaN</td>\n",
       "      <td>Burger,Italian,Salad,Asian,Continental,North I...</td>\n",
       "      <td>NaN</td>\n",
       "      <td>1300</td>\n",
       "      <td>Rs. 1300</td>\n",
       "      <td>Fries, Beer, Masala Peanuts, Biryani, Pasta, L...</td>\n",
       "    </tr>\n",
       "    <tr>\n",
       "      <th>469</th>\n",
       "      <td>Café</td>\n",
       "      <td>Baner</td>\n",
       "      <td>4.2</td>\n",
       "      <td>-908</td>\n",
       "      <td>3.9</td>\n",
       "      <td>-326</td>\n",
       "      <td>Desserts,Mediterranean,Continental,Cafe,</td>\n",
       "      <td>NaN</td>\n",
       "      <td>1200</td>\n",
       "      <td>Rs. 1200</td>\n",
       "      <td>Tea, Waffles, Coffee, Pizza, Pasta, Maggi, Fries</td>\n",
       "    </tr>\n",
       "    <tr>\n",
       "      <th>506</th>\n",
       "      <td>Casual Dining</td>\n",
       "      <td>Baner</td>\n",
       "      <td>4.1</td>\n",
       "      <td>-848</td>\n",
       "      <td>4.0</td>\n",
       "      <td>-2,990</td>\n",
       "      <td>Mangalorean,Seafood,Chinese,North Indian,</td>\n",
       "      <td>NaN</td>\n",
       "      <td>1200</td>\n",
       "      <td>Rs. 1200</td>\n",
       "      <td>Sea Food, Fish, Biryani, Manchow Soup, Crispy ...</td>\n",
       "    </tr>\n",
       "    <tr>\n",
       "      <th>599</th>\n",
       "      <td>Casual Dining</td>\n",
       "      <td>Baner</td>\n",
       "      <td>4.4</td>\n",
       "      <td>-1,072</td>\n",
       "      <td>4.2</td>\n",
       "      <td>-2,684</td>\n",
       "      <td>Maharashtrian,</td>\n",
       "      <td>NaN</td>\n",
       "      <td>1100</td>\n",
       "      <td>Rs. 1100</td>\n",
       "      <td>Chicken Thali, Mutton Thali, Pandhra Rassa, No...</td>\n",
       "    </tr>\n",
       "    <tr>\n",
       "      <th>676</th>\n",
       "      <td>Casual Dining</td>\n",
       "      <td>Baner</td>\n",
       "      <td>4.1</td>\n",
       "      <td>-669</td>\n",
       "      <td>3.9</td>\n",
       "      <td>-877</td>\n",
       "      <td>Asian,</td>\n",
       "      <td>NaN</td>\n",
       "      <td>1000</td>\n",
       "      <td>Rs. 1000</td>\n",
       "      <td>Noodle, Dumplings, Spring Roll, Momos, Kung Pa...</td>\n",
       "    </tr>\n",
       "    <tr>\n",
       "      <th>678</th>\n",
       "      <td>Casual Dining</td>\n",
       "      <td>Baner</td>\n",
       "      <td>4.1</td>\n",
       "      <td>-713</td>\n",
       "      <td>4.0</td>\n",
       "      <td>-2,879</td>\n",
       "      <td>Mughlai,Kebab,North Indian,Biryani,</td>\n",
       "      <td>NaN</td>\n",
       "      <td>1000</td>\n",
       "      <td>Rs. 1000</td>\n",
       "      <td>Paan Shot, Tikka, Tandoori Chicken, Vegetable ...</td>\n",
       "    </tr>\n",
       "    <tr>\n",
       "      <th>975</th>\n",
       "      <td>Bakery</td>\n",
       "      <td>Baner</td>\n",
       "      <td>4.3</td>\n",
       "      <td>-484</td>\n",
       "      <td>4.0</td>\n",
       "      <td>-2,331</td>\n",
       "      <td>Desserts,Bakery,</td>\n",
       "      <td>NaN</td>\n",
       "      <td>400</td>\n",
       "      <td>Rs. 400</td>\n",
       "      <td>Belgium Chocolate Cake, Chocolava Cake, Cream ...</td>\n",
       "    </tr>\n",
       "    <tr>\n",
       "      <th>1058</th>\n",
       "      <td>NaN</td>\n",
       "      <td>Baner</td>\n",
       "      <td>4.1</td>\n",
       "      <td>(5,542 Reviews)</td>\n",
       "      <td>NaN</td>\n",
       "      <td>NaN</td>\n",
       "      <td>Mughlai,North Indian,Biryani,</td>\n",
       "      <td>NaN</td>\n",
       "      <td>700</td>\n",
       "      <td>Rs. 700</td>\n",
       "      <td>Gulab Jamun, Vegetable Biryani, Mutton Biryani...</td>\n",
       "    </tr>\n",
       "    <tr>\n",
       "      <th>1474</th>\n",
       "      <td>Quick Bites</td>\n",
       "      <td>Baner</td>\n",
       "      <td>4.2</td>\n",
       "      <td>-1,784</td>\n",
       "      <td>4.1</td>\n",
       "      <td>-9,068</td>\n",
       "      <td>Juices,Beverages,Street Food,Fast Food,</td>\n",
       "      <td>NaN</td>\n",
       "      <td>600</td>\n",
       "      <td>Rs. 600</td>\n",
       "      <td>Sandwich, Jamun Shots, Mango Blast, Pizza, Man...</td>\n",
       "    </tr>\n",
       "    <tr>\n",
       "      <th>1540</th>\n",
       "      <td>NaN</td>\n",
       "      <td>Baner</td>\n",
       "      <td>4.2</td>\n",
       "      <td>(7,262 Reviews)</td>\n",
       "      <td>NaN</td>\n",
       "      <td>NaN</td>\n",
       "      <td>North Indian,</td>\n",
       "      <td>NaN</td>\n",
       "      <td>400</td>\n",
       "      <td>Rs. 400</td>\n",
       "      <td>Paratha, Chaach, Lassi, Chole Kulche, Matar Pa...</td>\n",
       "    </tr>\n",
       "    <tr>\n",
       "      <th>1547</th>\n",
       "      <td>NaN</td>\n",
       "      <td>Baner</td>\n",
       "      <td>4.1</td>\n",
       "      <td>(125 Reviews)</td>\n",
       "      <td>NaN</td>\n",
       "      <td>NaN</td>\n",
       "      <td>Desserts,Ice Cream,</td>\n",
       "      <td>NaN</td>\n",
       "      <td>150</td>\n",
       "      <td>Rs. 150</td>\n",
       "      <td>NaN</td>\n",
       "    </tr>\n",
       "    <tr>\n",
       "      <th>1683</th>\n",
       "      <td>Dessert Parlor</td>\n",
       "      <td>Baner</td>\n",
       "      <td>4.1</td>\n",
       "      <td>-221</td>\n",
       "      <td>4.6</td>\n",
       "      <td>-1,001</td>\n",
       "      <td>Desserts,Ice Cream,</td>\n",
       "      <td>NaN</td>\n",
       "      <td>150</td>\n",
       "      <td>Rs. 150</td>\n",
       "      <td>Kesar Pista, Chaat, Fruit Ice Cream, Mango Ice...</td>\n",
       "    </tr>\n",
       "    <tr>\n",
       "      <th>1785</th>\n",
       "      <td>Sweet Shop,Quick Bites</td>\n",
       "      <td>Baner</td>\n",
       "      <td>4.2</td>\n",
       "      <td>-498</td>\n",
       "      <td>4.3</td>\n",
       "      <td>-3,680</td>\n",
       "      <td>North Indian,Street Food,Mithai,</td>\n",
       "      <td>NaN</td>\n",
       "      <td>300</td>\n",
       "      <td>Rs. 300</td>\n",
       "      <td>Rasmalai, Chole Bhature, Panipuri, Chaat, Dhok...</td>\n",
       "    </tr>\n",
       "    <tr>\n",
       "      <th>1817</th>\n",
       "      <td>NaN</td>\n",
       "      <td>Baner</td>\n",
       "      <td>4.2</td>\n",
       "      <td>(8,936 Reviews)</td>\n",
       "      <td>NaN</td>\n",
       "      <td>NaN</td>\n",
       "      <td>Fast Food,Biryani,North Indian,Wraps,</td>\n",
       "      <td>NaN</td>\n",
       "      <td>550</td>\n",
       "      <td>Rs. 550</td>\n",
       "      <td>Rolls, Veggie Wrap, Chicken Wrap, Cheesy Chick...</td>\n",
       "    </tr>\n",
       "    <tr>\n",
       "      <th>2128</th>\n",
       "      <td>Quick Bites</td>\n",
       "      <td>Baner</td>\n",
       "      <td>4.1</td>\n",
       "      <td>-881</td>\n",
       "      <td>4.2</td>\n",
       "      <td>(14.3K)</td>\n",
       "      <td>Salad,Burger,Rolls,Fast Food,</td>\n",
       "      <td>NaN</td>\n",
       "      <td>500</td>\n",
       "      <td>Rs. 500</td>\n",
       "      <td>Burgers, Lemonade, Fries, Rolls, Brownie Choco...</td>\n",
       "    </tr>\n",
       "    <tr>\n",
       "      <th>2219</th>\n",
       "      <td>Casual Dining</td>\n",
       "      <td>Baner</td>\n",
       "      <td>4.3</td>\n",
       "      <td>-823</td>\n",
       "      <td>4.0</td>\n",
       "      <td>-1,199</td>\n",
       "      <td>Thai,Chinese,Italian,North Indian,</td>\n",
       "      <td>NaN</td>\n",
       "      <td>800</td>\n",
       "      <td>Rs. 800</td>\n",
       "      <td>Pasta, Pizza, Nachos, Tom Kha Soup, Garlic Bre...</td>\n",
       "    </tr>\n",
       "    <tr>\n",
       "      <th>2222</th>\n",
       "      <td>NaN</td>\n",
       "      <td>Baner</td>\n",
       "      <td>4.2</td>\n",
       "      <td>(438 Reviews)</td>\n",
       "      <td>NaN</td>\n",
       "      <td>NaN</td>\n",
       "      <td>North Indian,</td>\n",
       "      <td>NaN</td>\n",
       "      <td>800</td>\n",
       "      <td>Rs. 800</td>\n",
       "      <td>NaN</td>\n",
       "    </tr>\n",
       "    <tr>\n",
       "      <th>2237</th>\n",
       "      <td>Dessert Parlor</td>\n",
       "      <td>Baner</td>\n",
       "      <td>4.2</td>\n",
       "      <td>-348</td>\n",
       "      <td>4.1</td>\n",
       "      <td>-2,042</td>\n",
       "      <td>Fast Food,Beverages,Desserts,</td>\n",
       "      <td>NaN</td>\n",
       "      <td>300</td>\n",
       "      <td>Rs. 300</td>\n",
       "      <td>Chocolate Overload, Red Velvet, Blueberry Waff...</td>\n",
       "    </tr>\n",
       "    <tr>\n",
       "      <th>2535</th>\n",
       "      <td>NaN</td>\n",
       "      <td>Baner</td>\n",
       "      <td>4.2</td>\n",
       "      <td>(7,162 Reviews)</td>\n",
       "      <td>NaN</td>\n",
       "      <td>NaN</td>\n",
       "      <td>Desserts,Italian,Pizza,</td>\n",
       "      <td>NaN</td>\n",
       "      <td>500</td>\n",
       "      <td>Rs. 500</td>\n",
       "      <td>Brownie, Tex Mex, Chocolava Cake, Exotic Garli...</td>\n",
       "    </tr>\n",
       "    <tr>\n",
       "      <th>2756</th>\n",
       "      <td>Quick Bites</td>\n",
       "      <td>Baner</td>\n",
       "      <td>4.2</td>\n",
       "      <td>(1,116 Reviews)</td>\n",
       "      <td>NaN</td>\n",
       "      <td>NaN</td>\n",
       "      <td>Wraps,Sandwich,Burger,Fast Food,</td>\n",
       "      <td>NaN</td>\n",
       "      <td>400</td>\n",
       "      <td>Rs. 400</td>\n",
       "      <td>Burgers, Pasta, Chaat, Jerk Chicken, Peri Peri...</td>\n",
       "    </tr>\n",
       "    <tr>\n",
       "      <th>3170</th>\n",
       "      <td>NaN</td>\n",
       "      <td>Baner</td>\n",
       "      <td>4.2</td>\n",
       "      <td>(1,546 Reviews)</td>\n",
       "      <td>NaN</td>\n",
       "      <td>NaN</td>\n",
       "      <td>Modern Indian,Italian,Mexican,</td>\n",
       "      <td>NaN</td>\n",
       "      <td>400</td>\n",
       "      <td>Rs. 400</td>\n",
       "      <td>Lasagne, Chocolate Fantasy, Chicken Quesadilla...</td>\n",
       "    </tr>\n",
       "    <tr>\n",
       "      <th>3436</th>\n",
       "      <td>Casual Dining</td>\n",
       "      <td>Baner</td>\n",
       "      <td>4.1</td>\n",
       "      <td>-669</td>\n",
       "      <td>3.9</td>\n",
       "      <td>-876</td>\n",
       "      <td>Asian,</td>\n",
       "      <td>NaN</td>\n",
       "      <td>1000</td>\n",
       "      <td>Rs. 1000</td>\n",
       "      <td>Noodle, Dumplings, Spring Roll, Momos, Kung Pa...</td>\n",
       "    </tr>\n",
       "    <tr>\n",
       "      <th>3482</th>\n",
       "      <td>Café</td>\n",
       "      <td>Baner</td>\n",
       "      <td>4.2</td>\n",
       "      <td>-190</td>\n",
       "      <td>3.8</td>\n",
       "      <td>-161</td>\n",
       "      <td>Beverages,Desserts,Continental,Italian,Pizza,</td>\n",
       "      <td>NaN</td>\n",
       "      <td>700</td>\n",
       "      <td>Rs. 700</td>\n",
       "      <td>NaN</td>\n",
       "    </tr>\n",
       "    <tr>\n",
       "      <th>3634</th>\n",
       "      <td>Casual Dining</td>\n",
       "      <td>Baner</td>\n",
       "      <td>4.1</td>\n",
       "      <td>-411</td>\n",
       "      <td>3.9</td>\n",
       "      <td>-1,068</td>\n",
       "      <td>Chinese,North Indian,Rajasthani,</td>\n",
       "      <td>NaN</td>\n",
       "      <td>450</td>\n",
       "      <td>Rs. 450</td>\n",
       "      <td>Dal Bati Churma, Rajasthani Thali, Veg Thali, ...</td>\n",
       "    </tr>\n",
       "    <tr>\n",
       "      <th>3804</th>\n",
       "      <td>Quick Bites</td>\n",
       "      <td>Baner</td>\n",
       "      <td>4.1</td>\n",
       "      <td>(365 Reviews)</td>\n",
       "      <td>NaN</td>\n",
       "      <td>NaN</td>\n",
       "      <td>South Indian,Street Food,</td>\n",
       "      <td>NaN</td>\n",
       "      <td>200</td>\n",
       "      <td>Rs. 200</td>\n",
       "      <td>Panipuri, Chaat, Kulfi, Sandwich, Ragda Patty,...</td>\n",
       "    </tr>\n",
       "    <tr>\n",
       "      <th>3834</th>\n",
       "      <td>Quick Bites</td>\n",
       "      <td>Baner</td>\n",
       "      <td>4.2</td>\n",
       "      <td>-848</td>\n",
       "      <td>3.8</td>\n",
       "      <td>-3,697</td>\n",
       "      <td>Thai,Chinese,</td>\n",
       "      <td>NaN</td>\n",
       "      <td>600</td>\n",
       "      <td>Rs. 600</td>\n",
       "      <td>Noodle, Iced Tea, Fries, Hakka Noodles, Momos,...</td>\n",
       "    </tr>\n",
       "    <tr>\n",
       "      <th>3987</th>\n",
       "      <td>Bakery</td>\n",
       "      <td>Baner</td>\n",
       "      <td>4.1</td>\n",
       "      <td>(91 Reviews)</td>\n",
       "      <td>NaN</td>\n",
       "      <td>NaN</td>\n",
       "      <td>Beverages,Fast Food,Continental,Bakery,</td>\n",
       "      <td>NaN</td>\n",
       "      <td>550</td>\n",
       "      <td>Rs. 550</td>\n",
       "      <td>NaN</td>\n",
       "    </tr>\n",
       "    <tr>\n",
       "      <th>4047</th>\n",
       "      <td>Dessert Parlor</td>\n",
       "      <td>Baner</td>\n",
       "      <td>4.3</td>\n",
       "      <td>(414 Reviews)</td>\n",
       "      <td>NaN</td>\n",
       "      <td>NaN</td>\n",
       "      <td>Beverages,Desserts,</td>\n",
       "      <td>NaN</td>\n",
       "      <td>400</td>\n",
       "      <td>Rs. 400</td>\n",
       "      <td>Waffles, Churros, Freak Shake, Vanilla Ice Cre...</td>\n",
       "    </tr>\n",
       "    <tr>\n",
       "      <th>4085</th>\n",
       "      <td>Casual Dining</td>\n",
       "      <td>Baner</td>\n",
       "      <td>4.1</td>\n",
       "      <td>-1,072</td>\n",
       "      <td>3.4</td>\n",
       "      <td>-750</td>\n",
       "      <td>Continental,North Indian,</td>\n",
       "      <td>NaN</td>\n",
       "      <td>800</td>\n",
       "      <td>Rs. 800</td>\n",
       "      <td>Masala Papad Platter, Mocktails, Pasta, Dal Ma...</td>\n",
       "    </tr>\n",
       "    <tr>\n",
       "      <th>4601</th>\n",
       "      <td>NaN</td>\n",
       "      <td>Baner</td>\n",
       "      <td>4.1</td>\n",
       "      <td>(553 Reviews)</td>\n",
       "      <td>NaN</td>\n",
       "      <td>NaN</td>\n",
       "      <td>Chinese,</td>\n",
       "      <td>NaN</td>\n",
       "      <td>300</td>\n",
       "      <td>Rs. 300</td>\n",
       "      <td>NaN</td>\n",
       "    </tr>\n",
       "    <tr>\n",
       "      <th>4617</th>\n",
       "      <td>NaN</td>\n",
       "      <td>Baner</td>\n",
       "      <td>4.3</td>\n",
       "      <td>(3,618 Reviews)</td>\n",
       "      <td>NaN</td>\n",
       "      <td>NaN</td>\n",
       "      <td>Kebab,Biryani,Afghan,Mughlai,North Indian,</td>\n",
       "      <td>NaN</td>\n",
       "      <td>700</td>\n",
       "      <td>Rs. 700</td>\n",
       "      <td>Butter Chicken, Dal Makhani, Paneer Lababdar, ...</td>\n",
       "    </tr>\n",
       "    <tr>\n",
       "      <th>5292</th>\n",
       "      <td>Casual Dining</td>\n",
       "      <td>Baner</td>\n",
       "      <td>4.1</td>\n",
       "      <td>-848</td>\n",
       "      <td>4.0</td>\n",
       "      <td>-2,989</td>\n",
       "      <td>Mangalorean,Seafood,Chinese,North Indian,</td>\n",
       "      <td>NaN</td>\n",
       "      <td>1200</td>\n",
       "      <td>Rs. 1200</td>\n",
       "      <td>Sea Food, Fish, Biryani, Manchow Soup, Crispy ...</td>\n",
       "    </tr>\n",
       "    <tr>\n",
       "      <th>5386</th>\n",
       "      <td>Casual Dining</td>\n",
       "      <td>Baner</td>\n",
       "      <td>4.2</td>\n",
       "      <td>-271</td>\n",
       "      <td>4.0</td>\n",
       "      <td>-355</td>\n",
       "      <td>Konkan,Seafood,Goan,Mangalorean,</td>\n",
       "      <td>NaN</td>\n",
       "      <td>800</td>\n",
       "      <td>Rs. 800</td>\n",
       "      <td>Sea Food, Neer Dosa, Sol Kadhi, Fry Prawns, Su...</td>\n",
       "    </tr>\n",
       "    <tr>\n",
       "      <th>5390</th>\n",
       "      <td>Casual Dining,Bar</td>\n",
       "      <td>Baner</td>\n",
       "      <td>4.2</td>\n",
       "      <td>-248</td>\n",
       "      <td>3.6</td>\n",
       "      <td>-842</td>\n",
       "      <td>Italian,Continental,Chinese,North Indian,</td>\n",
       "      <td>NaN</td>\n",
       "      <td>900</td>\n",
       "      <td>Rs. 900</td>\n",
       "      <td>Mocktails, Brownie, Caramel Custard, Paan Moji...</td>\n",
       "    </tr>\n",
       "  </tbody>\n",
       "</table>\n",
       "</div>"
      ],
      "text/plain": [
       "                   rest_type    loc  dine_rating     dine_reviews  \\\n",
       "142     Lounge,Casual Dining  Baner          4.2    (952 Reviews)   \n",
       "181        Casual Dining,Bar  Baner          4.1             -653   \n",
       "190                      Bar  Baner          4.1             -634   \n",
       "221             Microbrewery  Baner          4.3             -471   \n",
       "231            Casual Dining  Baner          4.1    (119 Reviews)   \n",
       "248            Casual Dining  Baner          4.2    (390 Reviews)   \n",
       "257        Bar,Casual Dining  Baner          4.4    (708 Reviews)   \n",
       "343        Bar,Casual Dining  Baner          4.2  (1,531 Reviews)   \n",
       "384                      Bar  Baner          4.4  (1,219 Reviews)   \n",
       "388            Casual Dining  Baner          4.3             -948   \n",
       "420            Casual Dining  Baner          4.3             -465   \n",
       "431        Casual Dining,Bar  Baner          4.1    (339 Reviews)   \n",
       "469                     Café  Baner          4.2             -908   \n",
       "506            Casual Dining  Baner          4.1             -848   \n",
       "599            Casual Dining  Baner          4.4           -1,072   \n",
       "676            Casual Dining  Baner          4.1             -669   \n",
       "678            Casual Dining  Baner          4.1             -713   \n",
       "975                   Bakery  Baner          4.3             -484   \n",
       "1058                     NaN  Baner          4.1  (5,542 Reviews)   \n",
       "1474             Quick Bites  Baner          4.2           -1,784   \n",
       "1540                     NaN  Baner          4.2  (7,262 Reviews)   \n",
       "1547                     NaN  Baner          4.1    (125 Reviews)   \n",
       "1683          Dessert Parlor  Baner          4.1             -221   \n",
       "1785  Sweet Shop,Quick Bites  Baner          4.2             -498   \n",
       "1817                     NaN  Baner          4.2  (8,936 Reviews)   \n",
       "2128             Quick Bites  Baner          4.1             -881   \n",
       "2219           Casual Dining  Baner          4.3             -823   \n",
       "2222                     NaN  Baner          4.2    (438 Reviews)   \n",
       "2237          Dessert Parlor  Baner          4.2             -348   \n",
       "2535                     NaN  Baner          4.2  (7,162 Reviews)   \n",
       "2756             Quick Bites  Baner          4.2  (1,116 Reviews)   \n",
       "3170                     NaN  Baner          4.2  (1,546 Reviews)   \n",
       "3436           Casual Dining  Baner          4.1             -669   \n",
       "3482                    Café  Baner          4.2             -190   \n",
       "3634           Casual Dining  Baner          4.1             -411   \n",
       "3804             Quick Bites  Baner          4.1    (365 Reviews)   \n",
       "3834             Quick Bites  Baner          4.2             -848   \n",
       "3987                  Bakery  Baner          4.1     (91 Reviews)   \n",
       "4047          Dessert Parlor  Baner          4.3    (414 Reviews)   \n",
       "4085           Casual Dining  Baner          4.1           -1,072   \n",
       "4601                     NaN  Baner          4.1    (553 Reviews)   \n",
       "4617                     NaN  Baner          4.3  (3,618 Reviews)   \n",
       "5292           Casual Dining  Baner          4.1             -848   \n",
       "5386           Casual Dining  Baner          4.2             -271   \n",
       "5390       Casual Dining,Bar  Baner          4.2             -248   \n",
       "\n",
       "      delivery_rating delivery_reviews  \\\n",
       "142               NaN              NaN   \n",
       "181               4.1             -193   \n",
       "190               3.3             -393   \n",
       "221               4.1             -238   \n",
       "231               NaN              NaN   \n",
       "248               NaN              NaN   \n",
       "257               NaN              NaN   \n",
       "343               NaN              NaN   \n",
       "384               NaN              NaN   \n",
       "388               3.9           -1,947   \n",
       "420               4.1             -492   \n",
       "431               NaN              NaN   \n",
       "469               3.9             -326   \n",
       "506               4.0           -2,990   \n",
       "599               4.2           -2,684   \n",
       "676               3.9             -877   \n",
       "678               4.0           -2,879   \n",
       "975               4.0           -2,331   \n",
       "1058              NaN              NaN   \n",
       "1474              4.1           -9,068   \n",
       "1540              NaN              NaN   \n",
       "1547              NaN              NaN   \n",
       "1683              4.6           -1,001   \n",
       "1785              4.3           -3,680   \n",
       "1817              NaN              NaN   \n",
       "2128              4.2          (14.3K)   \n",
       "2219              4.0           -1,199   \n",
       "2222              NaN              NaN   \n",
       "2237              4.1           -2,042   \n",
       "2535              NaN              NaN   \n",
       "2756              NaN              NaN   \n",
       "3170              NaN              NaN   \n",
       "3436              3.9             -876   \n",
       "3482              3.8             -161   \n",
       "3634              3.9           -1,068   \n",
       "3804              NaN              NaN   \n",
       "3834              3.8           -3,697   \n",
       "3987              NaN              NaN   \n",
       "4047              NaN              NaN   \n",
       "4085              3.4             -750   \n",
       "4601              NaN              NaN   \n",
       "4617              NaN              NaN   \n",
       "5292              4.0           -2,989   \n",
       "5386              4.0             -355   \n",
       "5390              3.6             -842   \n",
       "\n",
       "                                                cuisine  Unnamed: 9  \\\n",
       "142                           North Indian,Continental,         NaN   \n",
       "181   Sandwich,Italian,Seafood,Chinese,Mughlai,North...         NaN   \n",
       "190          Chinese,North Indian,Continental,Bar Food,         NaN   \n",
       "221                      Salad,Continental,Finger Food,         NaN   \n",
       "231     Continental,Mexican,North Indian,Asian,Italian,         NaN   \n",
       "248             Fast Food,Chinese,Mughlai,North Indian,         NaN   \n",
       "257               Finger Food,Continental,North Indian,         NaN   \n",
       "343   Seafood,Mughlai,Bar Food,Asian,North Indian,It...         NaN   \n",
       "384     North Indian,Italian,Modern Indian,Continental,         NaN   \n",
       "388   Beverages,Desserts,Rolls,Biryani,Continental,C...         NaN   \n",
       "420   Singaporean,Indonesian,Japanese,Thai,Malaysian...         NaN   \n",
       "431   Burger,Italian,Salad,Asian,Continental,North I...         NaN   \n",
       "469            Desserts,Mediterranean,Continental,Cafe,         NaN   \n",
       "506           Mangalorean,Seafood,Chinese,North Indian,         NaN   \n",
       "599                                      Maharashtrian,         NaN   \n",
       "676                                              Asian,         NaN   \n",
       "678                 Mughlai,Kebab,North Indian,Biryani,         NaN   \n",
       "975                                    Desserts,Bakery,         NaN   \n",
       "1058                      Mughlai,North Indian,Biryani,         NaN   \n",
       "1474            Juices,Beverages,Street Food,Fast Food,         NaN   \n",
       "1540                                      North Indian,         NaN   \n",
       "1547                                Desserts,Ice Cream,         NaN   \n",
       "1683                                Desserts,Ice Cream,         NaN   \n",
       "1785                   North Indian,Street Food,Mithai,         NaN   \n",
       "1817              Fast Food,Biryani,North Indian,Wraps,         NaN   \n",
       "2128                      Salad,Burger,Rolls,Fast Food,         NaN   \n",
       "2219                 Thai,Chinese,Italian,North Indian,         NaN   \n",
       "2222                                      North Indian,         NaN   \n",
       "2237                      Fast Food,Beverages,Desserts,         NaN   \n",
       "2535                            Desserts,Italian,Pizza,         NaN   \n",
       "2756                   Wraps,Sandwich,Burger,Fast Food,         NaN   \n",
       "3170                     Modern Indian,Italian,Mexican,         NaN   \n",
       "3436                                             Asian,         NaN   \n",
       "3482      Beverages,Desserts,Continental,Italian,Pizza,         NaN   \n",
       "3634                   Chinese,North Indian,Rajasthani,         NaN   \n",
       "3804                          South Indian,Street Food,         NaN   \n",
       "3834                                      Thai,Chinese,         NaN   \n",
       "3987            Beverages,Fast Food,Continental,Bakery,         NaN   \n",
       "4047                                Beverages,Desserts,         NaN   \n",
       "4085                          Continental,North Indian,         NaN   \n",
       "4601                                           Chinese,         NaN   \n",
       "4617         Kebab,Biryani,Afghan,Mughlai,North Indian,         NaN   \n",
       "5292          Mangalorean,Seafood,Chinese,North Indian,         NaN   \n",
       "5386                   Konkan,Seafood,Goan,Mangalorean,         NaN   \n",
       "5390          Italian,Continental,Chinese,North Indian,         NaN   \n",
       "\n",
       "      Cost (RS)      cost                                              liked  \n",
       "142        1700  Rs. 1700  Pizza, Cocktails, Mocktails, Brownie, Paneer T...  \n",
       "181        1600  Rs. 1600  Paan Shot, Peri Peri Chicken, Paneer Lababdar,...  \n",
       "190        1600  Rs. 1600  Cocktails, Mocktails, Paneer Khurchan, Cheese ...  \n",
       "221        1500  Rs. 1500  Cocktails, Popcorn, Sangria, Beer, Mushroom Cr...  \n",
       "231        1500  Rs. 1500                                                NaN  \n",
       "248        1500  Rs. 1500  Cocktails, Mocktails, Thin Crust Pizza, Pasta,...  \n",
       "257        1500  Rs. 1500                                                NaN  \n",
       "343        1400  Rs. 1400  Nachos, Cocktails, Peri Peri Chicken, Pizza, P...  \n",
       "384        1300  Rs. 1300  Cocktails, Pizza, Nachos, Mocktails, Long Isla...  \n",
       "388        1300  Rs. 1300  Pasta, Naan, Brownie, Paneer Romanchak, Parath...  \n",
       "420        1300  Rs. 1300  Khao Suey, Khau Suey, Noodle, Cocktails, Sushi...  \n",
       "431        1300  Rs. 1300  Fries, Beer, Masala Peanuts, Biryani, Pasta, L...  \n",
       "469        1200  Rs. 1200   Tea, Waffles, Coffee, Pizza, Pasta, Maggi, Fries  \n",
       "506        1200  Rs. 1200  Sea Food, Fish, Biryani, Manchow Soup, Crispy ...  \n",
       "599        1100  Rs. 1100  Chicken Thali, Mutton Thali, Pandhra Rassa, No...  \n",
       "676        1000  Rs. 1000  Noodle, Dumplings, Spring Roll, Momos, Kung Pa...  \n",
       "678        1000  Rs. 1000  Paan Shot, Tikka, Tandoori Chicken, Vegetable ...  \n",
       "975         400   Rs. 400  Belgium Chocolate Cake, Chocolava Cake, Cream ...  \n",
       "1058        700   Rs. 700  Gulab Jamun, Vegetable Biryani, Mutton Biryani...  \n",
       "1474        600   Rs. 600  Sandwich, Jamun Shots, Mango Blast, Pizza, Man...  \n",
       "1540        400   Rs. 400  Paratha, Chaach, Lassi, Chole Kulche, Matar Pa...  \n",
       "1547        150   Rs. 150                                                NaN  \n",
       "1683        150   Rs. 150  Kesar Pista, Chaat, Fruit Ice Cream, Mango Ice...  \n",
       "1785        300   Rs. 300  Rasmalai, Chole Bhature, Panipuri, Chaat, Dhok...  \n",
       "1817        550   Rs. 550  Rolls, Veggie Wrap, Chicken Wrap, Cheesy Chick...  \n",
       "2128        500   Rs. 500  Burgers, Lemonade, Fries, Rolls, Brownie Choco...  \n",
       "2219        800   Rs. 800  Pasta, Pizza, Nachos, Tom Kha Soup, Garlic Bre...  \n",
       "2222        800   Rs. 800                                                NaN  \n",
       "2237        300   Rs. 300  Chocolate Overload, Red Velvet, Blueberry Waff...  \n",
       "2535        500   Rs. 500  Brownie, Tex Mex, Chocolava Cake, Exotic Garli...  \n",
       "2756        400   Rs. 400  Burgers, Pasta, Chaat, Jerk Chicken, Peri Peri...  \n",
       "3170        400   Rs. 400  Lasagne, Chocolate Fantasy, Chicken Quesadilla...  \n",
       "3436       1000  Rs. 1000  Noodle, Dumplings, Spring Roll, Momos, Kung Pa...  \n",
       "3482        700   Rs. 700                                                NaN  \n",
       "3634        450   Rs. 450  Dal Bati Churma, Rajasthani Thali, Veg Thali, ...  \n",
       "3804        200   Rs. 200  Panipuri, Chaat, Kulfi, Sandwich, Ragda Patty,...  \n",
       "3834        600   Rs. 600  Noodle, Iced Tea, Fries, Hakka Noodles, Momos,...  \n",
       "3987        550   Rs. 550                                                NaN  \n",
       "4047        400   Rs. 400  Waffles, Churros, Freak Shake, Vanilla Ice Cre...  \n",
       "4085        800   Rs. 800  Masala Papad Platter, Mocktails, Pasta, Dal Ma...  \n",
       "4601        300   Rs. 300                                                NaN  \n",
       "4617        700   Rs. 700  Butter Chicken, Dal Makhani, Paneer Lababdar, ...  \n",
       "5292       1200  Rs. 1200  Sea Food, Fish, Biryani, Manchow Soup, Crispy ...  \n",
       "5386        800   Rs. 800  Sea Food, Neer Dosa, Sol Kadhi, Fry Prawns, Su...  \n",
       "5390        900   Rs. 900  Mocktails, Brownie, Caramel Custard, Paan Moji...  "
      ]
     },
     "execution_count": 72,
     "metadata": {},
     "output_type": "execute_result"
    }
   ],
   "source": [
    "ratings_bw[ratings_bw['loc']==\"Baner\"]"
   ]
  },
  {
   "cell_type": "code",
   "execution_count": 64,
   "id": "9887260e",
   "metadata": {},
   "outputs": [
    {
     "data": {
      "text/plain": [
       "<AxesSubplot:xlabel='rest_type'>"
      ]
     },
     "execution_count": 64,
     "metadata": {},
     "output_type": "execute_result"
    },
    {
     "data": {
      "image/png": "[encoded data removed]",
      "text/plain": [
       "<Figure size 432x288 with 1 Axes>"
      ]
     },
     "metadata": {
      "needs_background": "light"
     },
     "output_type": "display_data"
    }
   ],
   "source": [
    "sns.lineplot(rest_type_values,rest_type_values.index)"
   ]
  },
  {
   "cell_type": "code",
   "execution_count": null,
   "id": "cafe9cc8",
   "metadata": {},
   "outputs": [],
   "source": []
  },
  {
   "cell_type": "code",
   "execution_count": null,
   "id": "1d509f42",
   "metadata": {},
   "outputs": [],
   "source": []
  }
 ],
 "metadata": {
  "kernelspec": {
   "display_name": "Python 3 (ipykernel)",
   "language": "python",
   "name": "python3"
  },
  "language_info": {
   "codemirror_mode": {
    "name": "ipython",
    "version": 3
   },
   "file_extension": ".py",
   "mimetype": "text/x-python",
   "name": "python",
   "nbconvert_exporter": "python",
   "pygments_lexer": "ipython3",
   "version": "3.9.7"
  }
 },
 "nbformat": 4,
 "nbformat_minor": 5
}
